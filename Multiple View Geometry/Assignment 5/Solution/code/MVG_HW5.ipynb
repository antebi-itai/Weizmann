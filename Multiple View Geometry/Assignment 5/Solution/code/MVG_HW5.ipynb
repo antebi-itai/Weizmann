{
 "cells": [
  {
   "cell_type": "code",
   "execution_count": 1,
   "metadata": {},
   "outputs": [],
   "source": [
    "# auto reload\n",
    "%load_ext autoreload\n",
    "%autoreload 2\n",
    "\n",
    "# import\n",
    "import numpy as np\n",
    "import matplotlib.pyplot as plt\n",
    "import plotly\n",
    "import cvxpy as cp\n",
    "\n",
    "# load data\n",
    "from main import P, X, x, visible_points, K\n"
   ]
  },
  {
   "cell_type": "markdown",
   "metadata": {},
   "source": [
    "# Q1"
   ]
  },
  {
   "cell_type": "markdown",
   "metadata": {},
   "source": [
    "### Q1.b - histogram of errors"
   ]
  },
  {
   "cell_type": "code",
   "execution_count": 2,
   "metadata": {},
   "outputs": [
    {
     "data": {
      "image/png": "[encoded data removed]",
      "text/plain": [
       "<Figure size 432x288 with 1 Axes>"
      ]
     },
     "metadata": {
      "needs_background": "light"
     },
     "output_type": "display_data"
    }
   ],
   "source": [
    "from utils import reprojection_errors\n",
    "\n",
    "# change x to homogeneous coordinates\n",
    "homogeneous_x = np.concatenate([x, np.ones((x.shape[0], 1, x.shape[2]))], axis=1)\n",
    "# calc errors\n",
    "errors = reprojection_errors(P, X, homogeneous_x, visible_points)\n",
    "# displat hist of errors\n",
    "plt.hist(errors[visible_points], bins=100)\n",
    "plt.ylabel(\"number of points\")\n",
    "plt.xlabel(\"reprojection error\")\n",
    "plt.show()"
   ]
  },
  {
   "cell_type": "markdown",
   "metadata": {},
   "source": [
    "### Q1.e - triangulate using DLT (normalizes vs. unnormalizes)"
   ]
  },
  {
   "cell_type": "code",
   "execution_count": 3,
   "metadata": {},
   "outputs": [
    {
     "name": "stdout",
     "output_type": "stream",
     "text": [
      "mean reprojection error after dlt triangulation using \t NORMALIZED \t cameras and points is: \t0.3210541256757366\n",
      "mean reprojection error after dlt triangulation using \t UNNORMALIZED \t cameras and points is: \t10.766182016053962\n",
      "mean reprojection error for \t\t\t\t GT \t\t points is: \t\t\t0.320861680756133\n"
     ]
    }
   ],
   "source": [
    "from utils import normalize_cam_points\n",
    "from triangulation import DLT_triangulation\n",
    "\n",
    "# triangulate using unnormalized cameras and points\n",
    "unnorm_X_pred_dlt = DLT_triangulation(P, homogeneous_x, visible_points)\n",
    "# triangulate using normalized cameras and points\n",
    "norm_P, norm_x = normalize_cam_points(P, homogeneous_x, np.linalg.inv(K))\n",
    "norm_X_pred_dlt = DLT_triangulation(norm_P, norm_x, visible_points)\n",
    "\n",
    "# calculate the different reprojection errors\n",
    "dlt_norm_error   = np.nanmean(reprojection_errors(P, norm_X_pred_dlt,   homogeneous_x, visible_points))\n",
    "dlt_unnorm_error = np.nanmean(reprojection_errors(P, unnorm_X_pred_dlt, homogeneous_x, visible_points))\n",
    "gt_error         = np.nanmean(reprojection_errors(P, X,                 homogeneous_x, visible_points))\n",
    "\n",
    "# print the different reprojection errors\n",
    "print(\"mean reprojection error after dlt triangulation using \\t NORMALIZED \\t cameras and points is: \\t{error}\".format(error=dlt_norm_error))\n",
    "print(\"mean reprojection error after dlt triangulation using \\t UNNORMALIZED \\t cameras and points is: \\t{error}\".format(error=dlt_unnorm_error))\n",
    "print(\"mean reprojection error for \\t\\t\\t\\t GT \\t\\t points is: \\t\\t\\t{error}\".format(error=gt_error))"
   ]
  },
  {
   "cell_type": "markdown",
   "metadata": {},
   "source": [
    "# Q2"
   ]
  },
  {
   "cell_type": "markdown",
   "metadata": {},
   "source": [
    "### Q2.e - triangulate using SOCP (normalizes vs. unnormalizes)"
   ]
  },
  {
   "cell_type": "code",
   "execution_count": 4,
   "metadata": {},
   "outputs": [
    {
     "name": "stderr",
     "output_type": "stream",
     "text": [
      "  0%|▏                                                                      | 16/5302 [00:04<30:36,  2.88it/s]C:\\Users\\user\\anaconda3\\envs\\neural_networks\\lib\\site-packages\\cvxpy\\problems\\problem.py:1278: UserWarning: Solution may be inaccurate. Try another solver, adjusting the solver settings, or solve with verbose=True for more information.\n",
      "  warnings.warn(\n",
      "100%|█████████████████████████████████████████████████████████████████████| 5302/5302 [15:50<00:00,  5.58it/s]\n",
      "100%|█████████████████████████████████████████████████████████████████████| 5302/5302 [05:22<00:00, 16.46it/s]\n"
     ]
    },
    {
     "name": "stdout",
     "output_type": "stream",
     "text": [
      "mean reprojection error after socp triangulation using \t NORMALIZED \t cameras and points is: \t0.33994641002536263\n",
      "mean reprojection error after socp triangulation using \t UNNORMALIZED \t cameras and points is: \t0.363095442905146\n"
     ]
    },
    {
     "data": {
      "image/png": "[encoded data removed]",
      "text/plain": [
       "<Figure size 432x288 with 1 Axes>"
      ]
     },
     "metadata": {
      "needs_background": "light"
     },
     "output_type": "display_data"
    }
   ],
   "source": [
    "from triangulation import SOCP_triangulate_all_points\n",
    "# set consts\n",
    "max_iter=35\n",
    "low=0\n",
    "high=1024\n",
    "tol=1e-4\n",
    "\n",
    "# triangulate using unnormalized cameras and points\n",
    "unnorm_X_pred_socp = SOCP_triangulate_all_points(homogeneous_x, P, visible_points, max_iter=max_iter, low=low, high=high, tol=tol)\n",
    "# triangulate using normalized cameras and points\n",
    "norm_X_pred_socp = SOCP_triangulate_all_points(norm_x, norm_P, visible_points, max_iter=max_iter, low=low, high=high, tol=tol)\n",
    "\n",
    "# calculate the different reprojection errors\n",
    "socp_norm_error   = np.nanmean(reprojection_errors(P, norm_X_pred_socp,   homogeneous_x, visible_points))\n",
    "socp_unnorm_error = np.nanmean(reprojection_errors(P, unnorm_X_pred_socp, homogeneous_x, visible_points))\n",
    "\n",
    "# print the different reprojection errors\n",
    "print(\"mean reprojection error after socp triangulation using \\t NORMALIZED \\t cameras and points is: \\t{error}\".format(error=socp_norm_error))\n",
    "print(\"mean reprojection error after socp triangulation using \\t UNNORMALIZED \\t cameras and points is: \\t{error}\".format(error=socp_unnorm_error))\n",
    "\n",
    "# plot the bar chart\n",
    "error_values = [dlt_unnorm_error, dlt_norm_error, socp_unnorm_error, socp_norm_error, gt_error]\n",
    "plt.bar([\"DLT\", \"DLT normalized\", \"SOCP\", \"SOCP normalized\", \"GT\"], error_values)\n",
    "for index, value in enumerate(error_values):\n",
    "    plt.text(index - 0.2, value + 0.1, \"{:.2f}\".format(value))\n",
    "plt.ylabel(\"mean reprojection error\")\n",
    "plt.xlabel(\"3D point calculation method\")\n",
    "plt.xticks(rotation=45)\n",
    "plt.show()"
   ]
  },
  {
   "cell_type": "markdown",
   "metadata": {},
   "source": [
    "### Q2.f - visualize reconstructions"
   ]
  },
  {
   "cell_type": "code",
   "execution_count": 5,
   "metadata": {},
   "outputs": [],
   "source": [
    "from utils import plot_cameras\n",
    "# visualize worst mean error\n",
    "plot_cameras(P, K, unnorm_X_pred_dlt, title='3D_reconstruction_DLT_unnormalized')\n",
    "\n",
    "# visualize best mean error\n",
    "plot_cameras(P, K, X, title='3D_reconstruction_GT_points')"
   ]
  }
 ],
 "metadata": {
  "kernelspec": {
   "display_name": "Python 3",
   "language": "python",
   "name": "python3"
  },
  "language_info": {
   "codemirror_mode": {
    "name": "ipython",
    "version": 3
   },
   "file_extension": ".py",
   "mimetype": "text/x-python",
   "name": "python",
   "nbconvert_exporter": "python",
   "pygments_lexer": "ipython3",
   "version": "3.8.5"
  }
 },
 "nbformat": 4,
 "nbformat_minor": 4
}
